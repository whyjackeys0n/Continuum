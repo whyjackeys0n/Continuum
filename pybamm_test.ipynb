{
 "cells": [
  {
   "cell_type": "code",
   "execution_count": 3,
   "id": "5c8058da",
   "metadata": {
    "pycharm": {
     "name": "#%%\n"
    }
   },
   "outputs": [
    {
     "name": "stdout",
     "output_type": "stream",
     "text": [
      "Requirement already satisfied: pybamm in c:\\programdata\\anaconda3\\lib\\site-packages (22.6)\n",
      "Requirement already satisfied: jupyter in c:\\programdata\\anaconda3\\lib\\site-packages (from pybamm) (1.0.0)\n",
      "Requirement already satisfied: sympy>=1.8 in c:\\programdata\\anaconda3\\lib\\site-packages (from pybamm) (1.9)\n",
      "Requirement already satisfied: scipy>=1.3 in c:\\programdata\\anaconda3\\lib\\site-packages (from pybamm) (1.7.1)\n",
      "Requirement already satisfied: matplotlib>=2.0 in c:\\programdata\\anaconda3\\lib\\site-packages (from pybamm) (3.4.3)\n",
      "Requirement already satisfied: pybtex in c:\\programdata\\anaconda3\\lib\\site-packages (from pybamm) (0.24.0)\n",
      "Requirement already satisfied: julia>=0.5.6 in c:\\programdata\\anaconda3\\lib\\site-packages (from pybamm) (0.5.7)\n",
      "Requirement already satisfied: casadi>=3.5.0 in c:\\programdata\\anaconda3\\lib\\site-packages (from pybamm) (3.5.5)\n",
      "Requirement already satisfied: pandas>=0.24 in c:\\programdata\\anaconda3\\lib\\site-packages (from pybamm) (1.3.4)\n",
      "Requirement already satisfied: autograd>=1.2 in c:\\programdata\\anaconda3\\lib\\site-packages (from pybamm) (1.4)\n",
      "Requirement already satisfied: scikit-fem>=0.2.0 in c:\\programdata\\anaconda3\\lib\\site-packages (from pybamm) (6.0.0)\n",
      "Requirement already satisfied: imageio>=2.9.0 in c:\\programdata\\anaconda3\\lib\\site-packages (from pybamm) (2.9.0)\n",
      "Requirement already satisfied: anytree>=2.4.3 in c:\\programdata\\anaconda3\\lib\\site-packages (from pybamm) (2.8.0)\n",
      "Requirement already satisfied: numpy<=1.22 in c:\\programdata\\anaconda3\\lib\\site-packages (from pybamm) (1.20.3)\n",
      "Requirement already satisfied: six>=1.9.0 in c:\\programdata\\anaconda3\\lib\\site-packages (from anytree>=2.4.3->pybamm) (1.16.0)\n",
      "Requirement already satisfied: future>=0.15.2 in c:\\programdata\\anaconda3\\lib\\site-packages (from autograd>=1.2->pybamm) (0.18.2)\n",
      "Requirement already satisfied: pillow in c:\\programdata\\anaconda3\\lib\\site-packages (from imageio>=2.9.0->pybamm) (8.4.0)\n",
      "Requirement already satisfied: cycler>=0.10 in c:\\programdata\\anaconda3\\lib\\site-packages (from matplotlib>=2.0->pybamm) (0.10.0)\n",
      "Requirement already satisfied: kiwisolver>=1.0.1 in c:\\programdata\\anaconda3\\lib\\site-packages (from matplotlib>=2.0->pybamm) (1.3.1)\n",
      "Requirement already satisfied: python-dateutil>=2.7 in c:\\programdata\\anaconda3\\lib\\site-packages (from matplotlib>=2.0->pybamm) (2.8.2)\n",
      "Requirement already satisfied: pyparsing>=2.2.1 in c:\\programdata\\anaconda3\\lib\\site-packages (from matplotlib>=2.0->pybamm) (3.0.4)\n",
      "Requirement already satisfied: pytz>=2017.3 in c:\\programdata\\anaconda3\\lib\\site-packages (from pandas>=0.24->pybamm) (2021.3)\n",
      "Requirement already satisfied: mpmath>=0.19 in c:\\programdata\\anaconda3\\lib\\site-packages (from sympy>=1.8->pybamm) (1.2.1)\n",
      "Requirement already satisfied: ipywidgets in c:\\programdata\\anaconda3\\lib\\site-packages (from jupyter->pybamm) (7.6.5)\n",
      "Requirement already satisfied: ipykernel in c:\\programdata\\anaconda3\\lib\\site-packages (from jupyter->pybamm) (6.4.1)\n",
      "Requirement already satisfied: qtconsole in c:\\programdata\\anaconda3\\lib\\site-packages (from jupyter->pybamm) (5.1.1)\n",
      "Requirement already satisfied: jupyter-console in c:\\programdata\\anaconda3\\lib\\site-packages (from jupyter->pybamm) (6.4.0)\n",
      "Requirement already satisfied: notebook in c:\\programdata\\anaconda3\\lib\\site-packages (from jupyter->pybamm) (6.4.5)\n",
      "Requirement already satisfied: nbconvert in c:\\programdata\\anaconda3\\lib\\site-packages (from jupyter->pybamm) (6.1.0)\n",
      "Requirement already satisfied: tornado<7.0,>=4.2 in c:\\programdata\\anaconda3\\lib\\site-packages (from ipykernel->jupyter->pybamm) (6.1)\n",
      "Requirement already satisfied: matplotlib-inline<0.2.0,>=0.1.0 in c:\\programdata\\anaconda3\\lib\\site-packages (from ipykernel->jupyter->pybamm) (0.1.2)\n",
      "Requirement already satisfied: ipython<8.0,>=7.23.1 in c:\\programdata\\anaconda3\\lib\\site-packages (from ipykernel->jupyter->pybamm) (7.29.0)\n",
      "Requirement already satisfied: ipython-genutils in c:\\programdata\\anaconda3\\lib\\site-packages (from ipykernel->jupyter->pybamm) (0.2.0)\n",
      "Requirement already satisfied: jupyter-client<8.0 in c:\\programdata\\anaconda3\\lib\\site-packages (from ipykernel->jupyter->pybamm) (6.1.12)\n",
      "Requirement already satisfied: traitlets<6.0,>=4.1.0 in c:\\programdata\\anaconda3\\lib\\site-packages (from ipykernel->jupyter->pybamm) (5.1.0)\n",
      "Requirement already satisfied: debugpy<2.0,>=1.0.0 in c:\\programdata\\anaconda3\\lib\\site-packages (from ipykernel->jupyter->pybamm) (1.4.1)\n",
      "Requirement already satisfied: prompt-toolkit!=3.0.0,!=3.0.1,<3.1.0,>=2.0.0 in c:\\programdata\\anaconda3\\lib\\site-packages (from ipython<8.0,>=7.23.1->ipykernel->jupyter->pybamm) (3.0.20)\n",
      "Requirement already satisfied: jedi>=0.16 in c:\\programdata\\anaconda3\\lib\\site-packages (from ipython<8.0,>=7.23.1->ipykernel->jupyter->pybamm) (0.18.0)\n",
      "Requirement already satisfied: backcall in c:\\programdata\\anaconda3\\lib\\site-packages (from ipython<8.0,>=7.23.1->ipykernel->jupyter->pybamm) (0.2.0)\n",
      "Requirement already satisfied: decorator in c:\\programdata\\anaconda3\\lib\\site-packages (from ipython<8.0,>=7.23.1->ipykernel->jupyter->pybamm) (5.1.0)\n",
      "Requirement already satisfied: setuptools>=18.5 in c:\\programdata\\anaconda3\\lib\\site-packages (from ipython<8.0,>=7.23.1->ipykernel->jupyter->pybamm) (58.0.4)\n",
      "Requirement already satisfied: pygments in c:\\programdata\\anaconda3\\lib\\site-packages (from ipython<8.0,>=7.23.1->ipykernel->jupyter->pybamm) (2.10.0)\n",
      "Requirement already satisfied: pickleshare in c:\\programdata\\anaconda3\\lib\\site-packages (from ipython<8.0,>=7.23.1->ipykernel->jupyter->pybamm) (0.7.5)\n",
      "Requirement already satisfied: colorama in c:\\programdata\\anaconda3\\lib\\site-packages (from ipython<8.0,>=7.23.1->ipykernel->jupyter->pybamm) (0.4.4)\n",
      "Requirement already satisfied: parso<0.9.0,>=0.8.0 in c:\\programdata\\anaconda3\\lib\\site-packages (from jedi>=0.16->ipython<8.0,>=7.23.1->ipykernel->jupyter->pybamm) (0.8.2)\n",
      "Requirement already satisfied: jupyter-core>=4.6.0 in c:\\programdata\\anaconda3\\lib\\site-packages (from jupyter-client<8.0->ipykernel->jupyter->pybamm) (4.8.1)\n",
      "Requirement already satisfied: pyzmq>=13 in c:\\programdata\\anaconda3\\lib\\site-packages (from jupyter-client<8.0->ipykernel->jupyter->pybamm) (22.2.1)\n",
      "Requirement already satisfied: pywin32>=1.0 in c:\\programdata\\anaconda3\\lib\\site-packages (from jupyter-core>=4.6.0->jupyter-client<8.0->ipykernel->jupyter->pybamm) (228)\n",
      "Requirement already satisfied: wcwidth in c:\\programdata\\anaconda3\\lib\\site-packages (from prompt-toolkit!=3.0.0,!=3.0.1,<3.1.0,>=2.0.0->ipython<8.0,>=7.23.1->ipykernel->jupyter->pybamm) (0.2.5)\n",
      "Requirement already satisfied: widgetsnbextension~=3.5.0 in c:\\programdata\\anaconda3\\lib\\site-packages (from ipywidgets->jupyter->pybamm) (3.5.1)\n",
      "Requirement already satisfied: jupyterlab-widgets>=1.0.0 in c:\\programdata\\anaconda3\\lib\\site-packages (from ipywidgets->jupyter->pybamm) (1.0.0)\n",
      "Requirement already satisfied: nbformat>=4.2.0 in c:\\programdata\\anaconda3\\lib\\site-packages (from ipywidgets->jupyter->pybamm) (5.1.3)\n",
      "Requirement already satisfied: jsonschema!=2.5.0,>=2.4 in c:\\programdata\\anaconda3\\lib\\site-packages (from nbformat>=4.2.0->ipywidgets->jupyter->pybamm) (3.2.0)\n",
      "Requirement already satisfied: attrs>=17.4.0 in c:\\programdata\\anaconda3\\lib\\site-packages (from jsonschema!=2.5.0,>=2.4->nbformat>=4.2.0->ipywidgets->jupyter->pybamm) (21.2.0)\n",
      "Requirement already satisfied: pyrsistent>=0.14.0 in c:\\programdata\\anaconda3\\lib\\site-packages (from jsonschema!=2.5.0,>=2.4->nbformat>=4.2.0->ipywidgets->jupyter->pybamm) (0.18.0)\n",
      "Requirement already satisfied: argon2-cffi in c:\\programdata\\anaconda3\\lib\\site-packages (from notebook->jupyter->pybamm) (20.1.0)\n",
      "Requirement already satisfied: terminado>=0.8.3 in c:\\programdata\\anaconda3\\lib\\site-packages (from notebook->jupyter->pybamm) (0.9.4)\n",
      "Requirement already satisfied: prometheus-client in c:\\programdata\\anaconda3\\lib\\site-packages (from notebook->jupyter->pybamm) (0.11.0)\n",
      "Requirement already satisfied: jinja2 in c:\\programdata\\anaconda3\\lib\\site-packages (from notebook->jupyter->pybamm) (2.11.3)\n",
      "Requirement already satisfied: Send2Trash>=1.5.0 in c:\\programdata\\anaconda3\\lib\\site-packages (from notebook->jupyter->pybamm) (1.8.0)\n",
      "Requirement already satisfied: pywinpty>=0.5 in c:\\programdata\\anaconda3\\lib\\site-packages (from terminado>=0.8.3->notebook->jupyter->pybamm) (0.5.7)\n",
      "Note: you may need to restart the kernel to use updated packages.Requirement already satisfied: cffi>=1.0.0 in c:\\programdata\\anaconda3\\lib\\site-packages (from argon2-cffi->notebook->jupyter->pybamm) (1.14.6)\n",
      "Requirement already satisfied: pycparser in c:\\programdata\\anaconda3\\lib\\site-packages (from cffi>=1.0.0->argon2-cffi->notebook->jupyter->pybamm) (2.20)\n",
      "Requirement already satisfied: MarkupSafe>=0.23 in c:\\programdata\\anaconda3\\lib\\site-packages (from jinja2->notebook->jupyter->pybamm) (1.1.1)\n",
      "Requirement already satisfied: mistune<2,>=0.8.1 in c:\\programdata\\anaconda3\\lib\\site-packages (from nbconvert->jupyter->pybamm) (0.8.4)\n",
      "Requirement already satisfied: nbclient<0.6.0,>=0.5.0 in c:\\programdata\\anaconda3\\lib\\site-packages (from nbconvert->jupyter->pybamm) (0.5.3)\n",
      "Requirement already satisfied: entrypoints>=0.2.2 in c:\\programdata\\anaconda3\\lib\\site-packages (from nbconvert->jupyter->pybamm) (0.3)\n",
      "Requirement already satisfied: jupyterlab-pygments in c:\\programdata\\anaconda3\\lib\\site-packages (from nbconvert->jupyter->pybamm) (0.1.2)\n",
      "Requirement already satisfied: defusedxml in c:\\programdata\\anaconda3\\lib\\site-packages (from nbconvert->jupyter->pybamm) (0.7.1)\n",
      "Requirement already satisfied: testpath in c:\\programdata\\anaconda3\\lib\\site-packages (from nbconvert->jupyter->pybamm) (0.5.0)\n",
      "Requirement already satisfied: pandocfilters>=1.4.1 in c:\\programdata\\anaconda3\\lib\\site-packages (from nbconvert->jupyter->pybamm) (1.4.3)\n",
      "Requirement already satisfied: bleach in c:\\programdata\\anaconda3\\lib\\site-packages (from nbconvert->jupyter->pybamm) (4.0.0)\n",
      "Requirement already satisfied: nest-asyncio in c:\\programdata\\anaconda3\\lib\\site-packages (from nbclient<0.6.0,>=0.5.0->nbconvert->jupyter->pybamm) (1.5.1)\n",
      "Requirement already satisfied: async-generator in c:\\programdata\\anaconda3\\lib\\site-packages (from nbclient<0.6.0,>=0.5.0->nbconvert->jupyter->pybamm) (1.10)\n",
      "Requirement already satisfied: packaging in c:\\programdata\\anaconda3\\lib\\site-packages (from bleach->nbconvert->jupyter->pybamm) (21.0)\n",
      "Requirement already satisfied: webencodings in c:\\programdata\\anaconda3\\lib\\site-packages (from bleach->nbconvert->jupyter->pybamm) (0.5.1)\n",
      "Requirement already satisfied: PyYAML>=3.01 in c:\\programdata\\anaconda3\\lib\\site-packages (from pybtex->pybamm) (6.0)\n",
      "Requirement already satisfied: latexcodec>=1.0.4 in c:\\programdata\\anaconda3\\lib\\site-packages (from pybtex->pybamm) (2.0.1)\n",
      "Requirement already satisfied: qtpy in c:\\programdata\\anaconda3\\lib\\site-packages (from qtconsole->jupyter->pybamm) (1.10.0)\n",
      "\n"
     ]
    }
   ],
   "source": [
    "pip install pybamm"
   ]
  },
  {
   "cell_type": "code",
   "execution_count": 5,
   "id": "3825b4f0",
   "metadata": {
    "pycharm": {
     "name": "#%%\n"
    }
   },
   "outputs": [],
   "source": [
    "import pybamm"
   ]
  },
  {
   "cell_type": "code",
   "execution_count": 8,
   "id": "781505e3",
   "metadata": {
    "pycharm": {
     "name": "#%%\n"
    }
   },
   "outputs": [],
   "source": [
    "model = pybamm.lithium_ion.DFN()"
   ]
  },
  {
   "cell_type": "code",
   "execution_count": 1,
   "id": "926bb90e",
   "metadata": {
    "pycharm": {
     "name": "#%%\n"
    }
   },
   "outputs": [
    {
     "ename": "NameError",
     "evalue": "name 'pybamm' is not defined",
     "output_type": "error",
     "traceback": [
      "\u001B[1;31m---------------------------------------------------------------------------\u001B[0m",
      "\u001B[1;31mNameError\u001B[0m                                 Traceback (most recent call last)",
      "Input \u001B[1;32mIn [1]\u001B[0m, in \u001B[0;36m<cell line: 1>\u001B[1;34m()\u001B[0m\n\u001B[1;32m----> 1\u001B[0m sim \u001B[38;5;241m=\u001B[39m \u001B[43mpybamm\u001B[49m\u001B[38;5;241m.\u001B[39mSimulation(model)\n\u001B[0;32m      2\u001B[0m sim\u001B[38;5;241m.\u001B[39msolve(t_eval\u001B[38;5;241m=\u001B[39m[\u001B[38;5;241m0\u001B[39m, \u001B[38;5;241m3600\u001B[39m])\n\u001B[0;32m      3\u001B[0m sim\u001B[38;5;241m.\u001B[39mplot()\n",
      "\u001B[1;31mNameError\u001B[0m: name 'pybamm' is not defined"
     ]
    }
   ],
   "source": [
    "sim = pybamm.Simulation(model)\n",
    "sim.solve(t_eval=[0, 3600])\n",
    "sim.plot()"
   ]
  },
  {
   "cell_type": "code",
   "execution_count": null,
   "id": "9979a9f7",
   "metadata": {
    "pycharm": {
     "name": "#%%\n"
    }
   },
   "outputs": [],
   "source": []
  }
 ],
 "metadata": {
  "kernelspec": {
   "display_name": "Python 3 (ipykernel)",
   "language": "python",
   "name": "python3"
  },
  "language_info": {
   "codemirror_mode": {
    "name": "ipython",
    "version": 3
   },
   "file_extension": ".py",
   "mimetype": "text/x-python",
   "name": "python",
   "nbconvert_exporter": "python",
   "pygments_lexer": "ipython3",
   "version": "3.9.7"
  }
 },
 "nbformat": 4,
 "nbformat_minor": 5
}